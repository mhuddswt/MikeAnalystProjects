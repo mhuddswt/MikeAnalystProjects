{
 "cells": [
  {
   "cell_type": "code",
   "execution_count": 1,
   "id": "8ec8b651-87c3-41e2-9a9f-7f4a63ba5aa0",
   "metadata": {},
   "outputs": [],
   "source": [
    "# Baseball Express Web Scraping Listing Page\n",
    "\n",
    "import requests\n",
    "from bs4 import BeautifulSoup\n",
    "import pandas as pd"
   ]
  },
  {
   "cell_type": "code",
   "execution_count": 3,
   "id": "30e22cc8-9d95-4c2f-81d7-5d001e998ea6",
   "metadata": {},
   "outputs": [],
   "source": [
    "# Get the URL from the USSSA bats landing page\n",
    "\n",
    "url = \"https://www.baseballexpress.com/bats/usssa\"\n",
    "\n",
    "page = requests.get(url)\n",
    "\n",
    "# I commented out the print statement below so I don't have to scroll through all of the html\n",
    "\n",
    "# If I want to look at the code I can remove the comment and run the print statement again\n",
    "\n",
    "# print(page.text)"
   ]
  },
  {
   "cell_type": "code",
   "execution_count": 4,
   "id": "be144b9b-386b-4998-b9c9-9d1bced49632",
   "metadata": {},
   "outputs": [
    {
     "name": "stdout",
     "output_type": "stream",
     "text": [
      "USSSA Baseball Bats | Top Brands at the Lowest Price\n"
     ]
    }
   ],
   "source": [
    "# Now we are going to extract the data we want using BeautifulSoup\n",
    "\n",
    "# Let try the of the landing page first\n",
    "\n",
    "soup = BeautifulSoup(page.text, \"html.parser\")\n",
    "\n",
    "print(soup.title.text)"
   ]
  },
  {
   "cell_type": "code",
   "execution_count": 5,
   "id": "dd73dc87-6eb4-48cd-8cfe-9f441b214eb6",
   "metadata": {},
   "outputs": [
    {
     "name": "stdout",
     "output_type": "stream",
     "text": [
      "Currently scraping page: 1\n",
      "Currently scraping page: 2\n",
      "Currently scraping page: 3\n",
      "Currently scraping page: 4\n"
     ]
    }
   ],
   "source": [
    "# We successfully got the title of the page now we'll start scraping the bat information\n",
    "\n",
    "import requests\n",
    "from bs4 import BeautifulSoup\n",
    "import pandas as pd\n",
    "\n",
    "current_page = 1\n",
    "\n",
    "data = []\n",
    "\n",
    "proceed = True\n",
    "\n",
    "while(proceed == True):\n",
    "    print(\"Currently scraping page: \"+str(current_page))\n",
    "    \n",
    "    url = \"https://www.baseballexpress.com/bats/usssa?p=\"+str(current_page)+\".html\"\n",
    "\n",
    "    page = requests.get(url)\n",
    "\n",
    "    soup = BeautifulSoup(page.text, \"html.parser\")\n",
    "\n",
    "    if soup.find_all(\"div\", class_ = \"message info empty\"):\n",
    "        proceed = False\n",
    "    else:\n",
    "        all_bats = soup.find_all(\"li\", class_ = \"item product product-item\")\n",
    "\n",
    "        for bat in all_bats:\n",
    "            item = {}\n",
    "\n",
    "            item['Title'] = bat.find(\"img\").attrs[\"alt\"]\n",
    "\n",
    "            item['Link'] = bat.find(\"a\").attrs[\"href\"]\n",
    "\n",
    "            item['Price'] = bat.find(\"span\", class_ = \"normal-price\").text.strip()[1:]\n",
    "\n",
    "            item['Original Price'] = bat.find(\"span\", class_ = \"price-container price-final_price tax weee\").text.strip()[1:]\n",
    "\n",
    "            item['Discount'] = (((float(item['Original Price']) - float(item['Price'])) / float(item['Original Price'])) * 100)\n",
    "            \n",
    "            data.append(item)\n",
    "\n",
    "    current_page += 1\n",
    "\n",
    "df = pd.DataFrame(data)\n",
    "\n",
    "# Can save to Excel xlsx or csv\n",
    "\n",
    "df.to_excel(\"USSSA_bats.xlsx\")\n",
    "\n",
    "# For some reason writing to csv is not working so just writing to xlsx for now\n",
    "\n",
    "# df.to_excel(\"USSSA_bats_2.csv\")"
   ]
  },
  {
   "cell_type": "code",
   "execution_count": 7,
   "id": "c88f1dba-42e9-4e7d-a36d-c321e7ca2e95",
   "metadata": {},
   "outputs": [
    {
     "name": "stdout",
     "output_type": "stream",
     "text": [
      "                                                Title  \\\n",
      "0   Easton 2026 The Dub 2-Piece Composite Double B...   \n",
      "1   Easton 2026 The Dub 2-Piece Composite Double B...   \n",
      "2       Rawlings 2025 Clout AI -10 USSSA Baseball Bat   \n",
      "3         DeMarini 2025 ZEN SL -10 USSSA Baseball Bat   \n",
      "4   Warstic 2024 Bonesaber Hybrid -10 Baseball USS...   \n",
      "..                                                ...   \n",
      "62  Louisville Slugger 2025 Atlas -8 USSSA Basebal...   \n",
      "63  Louisville Slugger 2025 Atlas -5 USSSA Basebal...   \n",
      "64  DeMarini 2025 Limited Edition Zen SL -8 USSSA ...   \n",
      "65  Axe Warp USSSA 3-Piece Composite -5 USSSA Flar...   \n",
      "66           Tucci 2025 Milano -10 USSSA Baseball Bat   \n",
      "\n",
      "                                                 Link   Price Original Price  \\\n",
      "0   https://www.baseballexpress.com/easton-2026-th...  499.99         499.99   \n",
      "1   https://www.baseballexpress.com/easton-2026-th...  499.99         499.99   \n",
      "2   https://www.baseballexpress.com/rawlings-2025-...  199.99         199.99   \n",
      "3   https://www.baseballexpress.com/demarini-2025-...  299.95         349.95   \n",
      "4   https://www.baseballexpress.com/warstic-2024-b...  209.00         299.00   \n",
      "..                                                ...     ...            ...   \n",
      "62  https://www.baseballexpress.com/louisville-slu...  199.95         249.95   \n",
      "63  https://www.baseballexpress.com/louisville-slu...  199.95         249.95   \n",
      "64  https://www.baseballexpress.com/demarini-2025-...  349.95         349.95   \n",
      "65  https://www.baseballexpress.com/axe-warp-usssa...  399.99         399.99   \n",
      "66  https://www.baseballexpress.com/tucci-2025-mil...  399.95         399.95   \n",
      "\n",
      "     Discount  \n",
      "0    0.000000  \n",
      "1    0.000000  \n",
      "2    0.000000  \n",
      "3   14.287755  \n",
      "4   30.100334  \n",
      "..        ...  \n",
      "62  20.004001  \n",
      "63  20.004001  \n",
      "64   0.000000  \n",
      "65   0.000000  \n",
      "66   0.000000  \n",
      "\n",
      "[67 rows x 5 columns]\n"
     ]
    }
   ],
   "source": [
    "# I can print out the data to see a sample of the results that were writted to the Excel file\n",
    "\n",
    "print(df)"
   ]
  },
  {
   "cell_type": "code",
   "execution_count": null,
   "id": "376eaf73-e0f3-4ce1-bc1c-925e42a422c3",
   "metadata": {},
   "outputs": [],
   "source": []
  }
 ],
 "metadata": {
  "kernelspec": {
   "display_name": "Python 3 (ipykernel)",
   "language": "python",
   "name": "python3"
  },
  "language_info": {
   "codemirror_mode": {
    "name": "ipython",
    "version": 3
   },
   "file_extension": ".py",
   "mimetype": "text/x-python",
   "name": "python",
   "nbconvert_exporter": "python",
   "pygments_lexer": "ipython3",
   "version": "3.12.7"
  }
 },
 "nbformat": 4,
 "nbformat_minor": 5
}
